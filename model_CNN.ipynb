{
 "cells": [
  {
   "cell_type": "markdown",
   "metadata": {},
   "source": [
    "# Load Data"
   ]
  },
  {
   "cell_type": "code",
   "execution_count": 1,
   "metadata": {},
   "outputs": [],
   "source": [
    "import os\n",
    "import tensorflow as tf\n",
    "from tensorflow.keras.preprocessing.image import ImageDataGenerator\n",
    "from tensorflow.keras.callbacks import ModelCheckpoint\n",
    "from tensorflow.keras.models import load_model\n",
    "import pandas as pd\n",
    "import matplotlib.pyplot as plt"
   ]
  },
  {
   "cell_type": "code",
   "execution_count": 2,
   "metadata": {},
   "outputs": [],
   "source": [
    "data_gen = ImageDataGenerator(\n",
    "        rotation_range=20,\n",
    "        zoom_range=0.10,\n",
    "        width_shift_range=0.1,\n",
    "        height_shift_range=0.1,\n",
    "        shear_range=0.15,\n",
    "        rescale=1./255,\n",
    "        horizontal_flip=True,\n",
    "        validation_split=0.2)"
   ]
  },
  {
   "cell_type": "code",
   "execution_count": 40,
   "metadata": {},
   "outputs": [
    {
     "name": "stdout",
     "output_type": "stream",
     "text": [
      "Found 640 images belonging to 2 classes.\n"
     ]
    }
   ],
   "source": [
    "#train: 80% of \"Validation\"\n",
    "train_dir = \"C:/Users/zhuyi/Documents/ANLY590_DEEP/project/Validation\"\n",
    "train = data_gen.flow_from_directory(directory=train_dir,target_size=(160,160),\n",
    "                                          class_mode=\"categorical\",\n",
    "                                          batch_size=32,subset = \"training\",seed=100)"
   ]
  },
  {
   "cell_type": "code",
   "execution_count": 41,
   "metadata": {},
   "outputs": [
    {
     "name": "stdout",
     "output_type": "stream",
     "text": [
      "Found 160 images belonging to 2 classes.\n"
     ]
    }
   ],
   "source": [
    "#valid: 20% of \"Validation\"\n",
    "valid = data_gen.flow_from_directory(directory=train_dir,target_size=(160,160),\n",
    "                                          class_mode=\"categorical\",\n",
    "                                          batch_size=32,subset=\"validation\",seed=100)"
   ]
  },
  {
   "cell_type": "code",
   "execution_count": 45,
   "metadata": {},
   "outputs": [
    {
     "name": "stdout",
     "output_type": "stream",
     "text": [
      "Found 100 images belonging to 2 classes.\n"
     ]
    }
   ],
   "source": [
    "#test: \"sample_training\"\n",
    "test_dir = \"C:/Users/zhuyi/Documents/ANLY590_DEEP/project/sample_training\"\n",
    "test = data_gen.flow_from_directory(directory=test_dir,target_size=(160,160),\n",
    "                                          class_mode=\"categorical\",\n",
    "                                          batch_size=32)"
   ]
  },
  {
   "cell_type": "markdown",
   "metadata": {},
   "source": [
    "# CNN with 1 Convolutional Layer"
   ]
  },
  {
   "cell_type": "code",
   "execution_count": 46,
   "metadata": {},
   "outputs": [],
   "source": [
    "model_one_layer = tf.keras.models.Sequential([\n",
    "    tf.keras.layers.Conv2D(100, (3,3), activation='relu', input_shape=(160, 160, 3)),\n",
    "    tf.keras.layers.MaxPooling2D(2,2),\n",
    "    \n",
    "    tf.keras.layers.Flatten(),\n",
    "    tf.keras.layers.Dropout(0.5),\n",
    "    tf.keras.layers.Dense(50, activation='relu'),\n",
    "    tf.keras.layers.Dense(2, activation='softmax')\n",
    "])\n",
    "\n",
    "model_one_layer.compile(optimizer=\"adam\",loss=\"categorical_crossentropy\",metrics =\"accuracy\")"
   ]
  },
  {
   "cell_type": "code",
   "execution_count": 47,
   "metadata": {},
   "outputs": [],
   "source": [
    "checkpoint = ModelCheckpoint(\"CNN_1_checkpoint.h5\",monitor=\"val_accuracy\",save_best_only=True,verbose=1)"
   ]
  },
  {
   "cell_type": "code",
   "execution_count": 48,
   "metadata": {},
   "outputs": [
    {
     "name": "stdout",
     "output_type": "stream",
     "text": [
      "Epoch 1/10\n",
      "20/20 [==============================] - ETA: 0s - loss: 2.8492 - accuracy: 0.7000\n",
      "Epoch 00001: val_accuracy improved from -inf to 0.86250, saving model to CNN_1_checkpoint.h5\n",
      "20/20 [==============================] - 50s 2s/step - loss: 2.8492 - accuracy: 0.7000 - val_loss: 0.3703 - val_accuracy: 0.8625\n",
      "Epoch 2/10\n",
      "20/20 [==============================] - ETA: 0s - loss: 0.2823 - accuracy: 0.8891\n",
      "Epoch 00002: val_accuracy improved from 0.86250 to 0.92500, saving model to CNN_1_checkpoint.h5\n",
      "20/20 [==============================] - 50s 2s/step - loss: 0.2823 - accuracy: 0.8891 - val_loss: 0.2127 - val_accuracy: 0.9250\n",
      "Epoch 3/10\n",
      "20/20 [==============================] - ETA: 0s - loss: 0.1929 - accuracy: 0.9312\n",
      "Epoch 00003: val_accuracy improved from 0.92500 to 0.94375, saving model to CNN_1_checkpoint.h5\n",
      "20/20 [==============================] - 51s 3s/step - loss: 0.1929 - accuracy: 0.9312 - val_loss: 0.1724 - val_accuracy: 0.9438\n",
      "Epoch 4/10\n",
      "20/20 [==============================] - ETA: 0s - loss: 0.1604 - accuracy: 0.9391\n",
      "Epoch 00004: val_accuracy did not improve from 0.94375\n",
      "20/20 [==============================] - 47s 2s/step - loss: 0.1604 - accuracy: 0.9391 - val_loss: 0.2093 - val_accuracy: 0.9375\n",
      "Epoch 5/10\n",
      "20/20 [==============================] - ETA: 0s - loss: 0.1188 - accuracy: 0.9563\n",
      "Epoch 00005: val_accuracy did not improve from 0.94375\n",
      "20/20 [==============================] - 47s 2s/step - loss: 0.1188 - accuracy: 0.9563 - val_loss: 0.1743 - val_accuracy: 0.9438\n",
      "Epoch 6/10\n",
      "20/20 [==============================] - ETA: 0s - loss: 0.1337 - accuracy: 0.9516\n",
      "Epoch 00006: val_accuracy did not improve from 0.94375\n",
      "20/20 [==============================] - 47s 2s/step - loss: 0.1337 - accuracy: 0.9516 - val_loss: 0.1977 - val_accuracy: 0.9312\n",
      "Epoch 7/10\n",
      "20/20 [==============================] - ETA: 0s - loss: 0.1516 - accuracy: 0.9516\n",
      "Epoch 00007: val_accuracy did not improve from 0.94375\n",
      "20/20 [==============================] - 47s 2s/step - loss: 0.1516 - accuracy: 0.9516 - val_loss: 0.2096 - val_accuracy: 0.9312\n",
      "Epoch 8/10\n",
      "20/20 [==============================] - ETA: 0s - loss: 0.1187 - accuracy: 0.9594\n",
      "Epoch 00008: val_accuracy did not improve from 0.94375\n",
      "20/20 [==============================] - 47s 2s/step - loss: 0.1187 - accuracy: 0.9594 - val_loss: 0.1417 - val_accuracy: 0.9375\n",
      "Epoch 9/10\n",
      "20/20 [==============================] - ETA: 0s - loss: 0.1059 - accuracy: 0.9672\n",
      "Epoch 00009: val_accuracy did not improve from 0.94375\n",
      "20/20 [==============================] - 47s 2s/step - loss: 0.1059 - accuracy: 0.9672 - val_loss: 0.1432 - val_accuracy: 0.9438\n",
      "Epoch 10/10\n",
      "20/20 [==============================] - ETA: 0s - loss: 0.1052 - accuracy: 0.9641\n",
      "Epoch 00010: val_accuracy improved from 0.94375 to 0.95625, saving model to CNN_1_checkpoint.h5\n",
      "20/20 [==============================] - 48s 2s/step - loss: 0.1052 - accuracy: 0.9641 - val_loss: 0.1459 - val_accuracy: 0.9563\n"
     ]
    }
   ],
   "source": [
    "history_one_layer = model_one_layer.fit_generator(generator=train, \n",
    "                              validation_data=valid,\n",
    "                              callbacks=[checkpoint],\n",
    "                              epochs=10)"
   ]
  },
  {
   "cell_type": "markdown",
   "metadata": {},
   "source": [
    "### Evaluation: 1 layer"
   ]
  },
  {
   "cell_type": "code",
   "execution_count": 49,
   "metadata": {},
   "outputs": [
    {
     "name": "stdout",
     "output_type": "stream",
     "text": [
      "20/20 [==============================] - 16s 797ms/step - loss: 0.1048 - accuracy: 0.9672\n"
     ]
    },
    {
     "data": {
      "text/plain": [
       "[0.10484705865383148, 0.9671875238418579]"
      ]
     },
     "execution_count": 49,
     "metadata": {},
     "output_type": "execute_result"
    }
   ],
   "source": [
    "model_one_layer.evaluate(train)"
   ]
  },
  {
   "cell_type": "code",
   "execution_count": 50,
   "metadata": {},
   "outputs": [
    {
     "name": "stdout",
     "output_type": "stream",
     "text": [
      "4/4 [==============================] - 2s 616ms/step - loss: 0.1319 - accuracy: 0.9500\n"
     ]
    },
    {
     "data": {
      "text/plain": [
       "[0.13186079263687134, 0.949999988079071]"
      ]
     },
     "execution_count": 50,
     "metadata": {},
     "output_type": "execute_result"
    }
   ],
   "source": [
    "model_one_layer.evaluate(test)"
   ]
  },
  {
   "cell_type": "code",
   "execution_count": 51,
   "metadata": {},
   "outputs": [
    {
     "name": "stdout",
     "output_type": "stream",
     "text": [
      "5/5 [==============================] - 3s 640ms/step - loss: 0.1423 - accuracy: 0.9500\n"
     ]
    },
    {
     "data": {
      "text/plain": [
       "[0.1422692835330963, 0.949999988079071]"
      ]
     },
     "execution_count": 51,
     "metadata": {},
     "output_type": "execute_result"
    }
   ],
   "source": [
    "model_one_layer.evaluate(valid)"
   ]
  },
  {
   "cell_type": "code",
   "execution_count": 52,
   "metadata": {},
   "outputs": [
    {
     "data": {
      "text/html": [
       "<div>\n",
       "<style scoped>\n",
       "    .dataframe tbody tr th:only-of-type {\n",
       "        vertical-align: middle;\n",
       "    }\n",
       "\n",
       "    .dataframe tbody tr th {\n",
       "        vertical-align: top;\n",
       "    }\n",
       "\n",
       "    .dataframe thead th {\n",
       "        text-align: right;\n",
       "    }\n",
       "</style>\n",
       "<table border=\"1\" class=\"dataframe\">\n",
       "  <thead>\n",
       "    <tr style=\"text-align: right;\">\n",
       "      <th></th>\n",
       "      <th>loss</th>\n",
       "      <th>accuracy</th>\n",
       "    </tr>\n",
       "  </thead>\n",
       "  <tbody>\n",
       "    <tr>\n",
       "      <th>0</th>\n",
       "      <td>2.849223</td>\n",
       "      <td>0.700000</td>\n",
       "    </tr>\n",
       "    <tr>\n",
       "      <th>1</th>\n",
       "      <td>0.282260</td>\n",
       "      <td>0.889063</td>\n",
       "    </tr>\n",
       "    <tr>\n",
       "      <th>2</th>\n",
       "      <td>0.192898</td>\n",
       "      <td>0.931250</td>\n",
       "    </tr>\n",
       "    <tr>\n",
       "      <th>3</th>\n",
       "      <td>0.160436</td>\n",
       "      <td>0.939062</td>\n",
       "    </tr>\n",
       "    <tr>\n",
       "      <th>4</th>\n",
       "      <td>0.118835</td>\n",
       "      <td>0.956250</td>\n",
       "    </tr>\n",
       "    <tr>\n",
       "      <th>5</th>\n",
       "      <td>0.133714</td>\n",
       "      <td>0.951563</td>\n",
       "    </tr>\n",
       "    <tr>\n",
       "      <th>6</th>\n",
       "      <td>0.151620</td>\n",
       "      <td>0.951563</td>\n",
       "    </tr>\n",
       "    <tr>\n",
       "      <th>7</th>\n",
       "      <td>0.118682</td>\n",
       "      <td>0.959375</td>\n",
       "    </tr>\n",
       "    <tr>\n",
       "      <th>8</th>\n",
       "      <td>0.105924</td>\n",
       "      <td>0.967188</td>\n",
       "    </tr>\n",
       "    <tr>\n",
       "      <th>9</th>\n",
       "      <td>0.105242</td>\n",
       "      <td>0.964063</td>\n",
       "    </tr>\n",
       "  </tbody>\n",
       "</table>\n",
       "</div>"
      ],
      "text/plain": [
       "       loss  accuracy\n",
       "0  2.849223  0.700000\n",
       "1  0.282260  0.889063\n",
       "2  0.192898  0.931250\n",
       "3  0.160436  0.939062\n",
       "4  0.118835  0.956250\n",
       "5  0.133714  0.951563\n",
       "6  0.151620  0.951563\n",
       "7  0.118682  0.959375\n",
       "8  0.105924  0.967188\n",
       "9  0.105242  0.964063"
      ]
     },
     "execution_count": 52,
     "metadata": {},
     "output_type": "execute_result"
    }
   ],
   "source": [
    "df_loss_accuary = pd.DataFrame.from_dict(history_one_layer.history).drop(columns = ['val_loss', 'val_accuracy'])\n",
    "df_loss_accuary"
   ]
  },
  {
   "cell_type": "code",
   "execution_count": 53,
   "metadata": {},
   "outputs": [
    {
     "data": {
      "image/png": "[encoded data removed]",
      "text/plain": [
       "<Figure size 432x288 with 1 Axes>"
      ]
     },
     "metadata": {
      "needs_background": "light"
     },
     "output_type": "display_data"
    },
    {
     "data": {
      "image/png": "[encoded data removed]",
      "text/plain": [
       "<Figure size 432x288 with 1 Axes>"
      ]
     },
     "metadata": {
      "needs_background": "light"
     },
     "output_type": "display_data"
    }
   ],
   "source": [
    "acc = history_one_layer.history['accuracy']\n",
    "val_acc = history_one_layer.history['val_accuracy']\n",
    "loss = history_one_layer.history['loss']\n",
    "val_loss = history_one_layer.history['val_loss']\n",
    "epochs = range(len(acc))\n",
    "plt.plot(epochs, acc, '-', color='orange', label='training acc')\n",
    "plt.plot(epochs, val_acc, '-', color='blue', label='validation acc')\n",
    "plt.title('CNN with 1 Convolustional Layers: Accuracy')\n",
    "plt.legend()\n",
    "plt.show()\n",
    "\n",
    "plt.plot(epochs, loss, '-', color='orange', label='training loss')\n",
    "plt.plot(epochs, val_loss,  '-', color='blue', label='validation loss')\n",
    "plt.title('CNN with 1 Convolustional Layers: Loss')\n",
    "plt.legend()\n",
    "plt.show()"
   ]
  },
  {
   "cell_type": "code",
   "execution_count": 54,
   "metadata": {},
   "outputs": [],
   "source": [
    "model_one_layer.save(os.path.join(\"C:/Users/zhuyi/Documents/ANLY590_DEEP/project\",'CNN_single_layer.h5'))"
   ]
  },
  {
   "cell_type": "markdown",
   "metadata": {},
   "source": [
    "# CNN with 4 Convolutional Layers"
   ]
  },
  {
   "cell_type": "code",
   "execution_count": 55,
   "metadata": {},
   "outputs": [],
   "source": [
    "model_four_layer = tf.keras.models.Sequential([\n",
    "    tf.keras.layers.Conv2D(100, (3,3), activation='relu', input_shape=(160, 160, 3)),\n",
    "    tf.keras.layers.MaxPooling2D(2,2),\n",
    "    \n",
    "    tf.keras.layers.Conv2D(100, (3,3), activation='relu'),\n",
    "    tf.keras.layers.MaxPooling2D(2,2),\n",
    "    \n",
    "    tf.keras.layers.Conv2D(100, (3,3), activation='relu'),\n",
    "    tf.keras.layers.MaxPooling2D(2,2),\n",
    "    \n",
    "    tf.keras.layers.Conv2D(100, (3,3), activation='relu'),\n",
    "    tf.keras.layers.MaxPooling2D(2,2),\n",
    "    \n",
    "    tf.keras.layers.Flatten(),\n",
    "    tf.keras.layers.Dropout(0.5),\n",
    "    tf.keras.layers.Dense(50, activation='relu'),\n",
    "    tf.keras.layers.Dense(2, activation='softmax')\n",
    "])\n",
    "\n",
    "model_four_layer.compile(optimizer=\"adam\",loss=\"categorical_crossentropy\",metrics =\"accuracy\")"
   ]
  },
  {
   "cell_type": "code",
   "execution_count": 56,
   "metadata": {},
   "outputs": [],
   "source": [
    "checkpoint = ModelCheckpoint(\"CNN_4_checkpoint.h5\",monitor=\"val_accuracy\",save_best_only=True,verbose=1)"
   ]
  },
  {
   "cell_type": "code",
   "execution_count": 57,
   "metadata": {},
   "outputs": [
    {
     "name": "stdout",
     "output_type": "stream",
     "text": [
      "Epoch 1/10\n",
      "20/20 [==============================] - ETA: 0s - loss: 0.5696 - accuracy: 0.6812\n",
      "Epoch 00001: val_accuracy improved from -inf to 0.90000, saving model to CNN_4_checkpoint.h5\n",
      "20/20 [==============================] - 81s 4s/step - loss: 0.5696 - accuracy: 0.6812 - val_loss: 0.2849 - val_accuracy: 0.9000\n",
      "Epoch 2/10\n",
      "20/20 [==============================] - ETA: 0s - loss: 0.2692 - accuracy: 0.9016\n",
      "Epoch 00002: val_accuracy did not improve from 0.90000\n",
      "20/20 [==============================] - 81s 4s/step - loss: 0.2692 - accuracy: 0.9016 - val_loss: 0.2707 - val_accuracy: 0.9000\n",
      "Epoch 3/10\n",
      "20/20 [==============================] - ETA: 0s - loss: 0.2491 - accuracy: 0.9094\n",
      "Epoch 00003: val_accuracy improved from 0.90000 to 0.94375, saving model to CNN_4_checkpoint.h5\n",
      "20/20 [==============================] - 80s 4s/step - loss: 0.2491 - accuracy: 0.9094 - val_loss: 0.1527 - val_accuracy: 0.9438\n",
      "Epoch 4/10\n",
      "20/20 [==============================] - ETA: 0s - loss: 0.2069 - accuracy: 0.9266\n",
      "Epoch 00004: val_accuracy did not improve from 0.94375\n",
      "20/20 [==============================] - 81s 4s/step - loss: 0.2069 - accuracy: 0.9266 - val_loss: 0.2069 - val_accuracy: 0.9187\n",
      "Epoch 5/10\n",
      "20/20 [==============================] - ETA: 0s - loss: 0.1791 - accuracy: 0.9406\n",
      "Epoch 00005: val_accuracy did not improve from 0.94375\n",
      "20/20 [==============================] - 82s 4s/step - loss: 0.1791 - accuracy: 0.9406 - val_loss: 0.1478 - val_accuracy: 0.9438\n",
      "Epoch 6/10\n",
      "20/20 [==============================] - ETA: 0s - loss: 0.1551 - accuracy: 0.9516\n",
      "Epoch 00006: val_accuracy improved from 0.94375 to 0.95000, saving model to CNN_4_checkpoint.h5\n",
      "20/20 [==============================] - 78s 4s/step - loss: 0.1551 - accuracy: 0.9516 - val_loss: 0.1494 - val_accuracy: 0.9500\n",
      "Epoch 7/10\n",
      "20/20 [==============================] - ETA: 0s - loss: 0.1562 - accuracy: 0.9531\n",
      "Epoch 00007: val_accuracy did not improve from 0.95000\n",
      "20/20 [==============================] - 81s 4s/step - loss: 0.1562 - accuracy: 0.9531 - val_loss: 0.1607 - val_accuracy: 0.9438\n",
      "Epoch 8/10\n",
      "20/20 [==============================] - ETA: 0s - loss: 0.1872 - accuracy: 0.9250\n",
      "Epoch 00008: val_accuracy did not improve from 0.95000\n",
      "20/20 [==============================] - 81s 4s/step - loss: 0.1872 - accuracy: 0.9250 - val_loss: 0.1769 - val_accuracy: 0.9312\n",
      "Epoch 9/10\n",
      "20/20 [==============================] - ETA: 0s - loss: 0.1923 - accuracy: 0.9406\n",
      "Epoch 00009: val_accuracy did not improve from 0.95000\n",
      "20/20 [==============================] - 81s 4s/step - loss: 0.1923 - accuracy: 0.9406 - val_loss: 0.2385 - val_accuracy: 0.9250\n",
      "Epoch 10/10\n",
      "20/20 [==============================] - ETA: 0s - loss: 0.1664 - accuracy: 0.9484\n",
      "Epoch 00010: val_accuracy did not improve from 0.95000\n",
      "20/20 [==============================] - 80s 4s/step - loss: 0.1664 - accuracy: 0.9484 - val_loss: 0.1616 - val_accuracy: 0.9500\n"
     ]
    }
   ],
   "source": [
    "history_four_layer = model_four_layer.fit_generator(generator=train, \n",
    "                              validation_data=valid,\n",
    "                              callbacks=[checkpoint],\n",
    "                              epochs=10)"
   ]
  },
  {
   "cell_type": "markdown",
   "metadata": {},
   "source": [
    "### Evaluation: 4 layer"
   ]
  },
  {
   "cell_type": "code",
   "execution_count": 58,
   "metadata": {},
   "outputs": [
    {
     "name": "stdout",
     "output_type": "stream",
     "text": [
      "20/20 [==============================] - 25s 1s/step - loss: 0.1282 - accuracy: 0.9625\n"
     ]
    },
    {
     "data": {
      "text/plain": [
       "[0.12819644808769226, 0.9624999761581421]"
      ]
     },
     "execution_count": 58,
     "metadata": {},
     "output_type": "execute_result"
    }
   ],
   "source": [
    "model_four_layer.evaluate(train)"
   ]
  },
  {
   "cell_type": "code",
   "execution_count": 59,
   "metadata": {},
   "outputs": [
    {
     "name": "stdout",
     "output_type": "stream",
     "text": [
      "4/4 [==============================] - 3s 657ms/step - loss: 0.1871 - accuracy: 0.9400\n"
     ]
    },
    {
     "data": {
      "text/plain": [
       "[0.18706069886684418, 0.9399999976158142]"
      ]
     },
     "execution_count": 59,
     "metadata": {},
     "output_type": "execute_result"
    }
   ],
   "source": [
    "model_four_layer.evaluate(test)"
   ]
  },
  {
   "cell_type": "code",
   "execution_count": 60,
   "metadata": {},
   "outputs": [
    {
     "name": "stdout",
     "output_type": "stream",
     "text": [
      "5/5 [==============================] - 5s 1s/step - loss: 0.1382 - accuracy: 0.9563\n"
     ]
    },
    {
     "data": {
      "text/plain": [
       "[0.13815101981163025, 0.956250011920929]"
      ]
     },
     "execution_count": 60,
     "metadata": {},
     "output_type": "execute_result"
    }
   ],
   "source": [
    "model_four_layer.evaluate(valid)"
   ]
  },
  {
   "cell_type": "code",
   "execution_count": 61,
   "metadata": {},
   "outputs": [
    {
     "data": {
      "text/html": [
       "<div>\n",
       "<style scoped>\n",
       "    .dataframe tbody tr th:only-of-type {\n",
       "        vertical-align: middle;\n",
       "    }\n",
       "\n",
       "    .dataframe tbody tr th {\n",
       "        vertical-align: top;\n",
       "    }\n",
       "\n",
       "    .dataframe thead th {\n",
       "        text-align: right;\n",
       "    }\n",
       "</style>\n",
       "<table border=\"1\" class=\"dataframe\">\n",
       "  <thead>\n",
       "    <tr style=\"text-align: right;\">\n",
       "      <th></th>\n",
       "      <th>loss</th>\n",
       "      <th>accuracy</th>\n",
       "    </tr>\n",
       "  </thead>\n",
       "  <tbody>\n",
       "    <tr>\n",
       "      <th>0</th>\n",
       "      <td>0.569555</td>\n",
       "      <td>0.681250</td>\n",
       "    </tr>\n",
       "    <tr>\n",
       "      <th>1</th>\n",
       "      <td>0.269150</td>\n",
       "      <td>0.901563</td>\n",
       "    </tr>\n",
       "    <tr>\n",
       "      <th>2</th>\n",
       "      <td>0.249102</td>\n",
       "      <td>0.909375</td>\n",
       "    </tr>\n",
       "    <tr>\n",
       "      <th>3</th>\n",
       "      <td>0.206915</td>\n",
       "      <td>0.926562</td>\n",
       "    </tr>\n",
       "    <tr>\n",
       "      <th>4</th>\n",
       "      <td>0.179096</td>\n",
       "      <td>0.940625</td>\n",
       "    </tr>\n",
       "    <tr>\n",
       "      <th>5</th>\n",
       "      <td>0.155132</td>\n",
       "      <td>0.951563</td>\n",
       "    </tr>\n",
       "    <tr>\n",
       "      <th>6</th>\n",
       "      <td>0.156218</td>\n",
       "      <td>0.953125</td>\n",
       "    </tr>\n",
       "    <tr>\n",
       "      <th>7</th>\n",
       "      <td>0.187243</td>\n",
       "      <td>0.925000</td>\n",
       "    </tr>\n",
       "    <tr>\n",
       "      <th>8</th>\n",
       "      <td>0.192268</td>\n",
       "      <td>0.940625</td>\n",
       "    </tr>\n",
       "    <tr>\n",
       "      <th>9</th>\n",
       "      <td>0.166434</td>\n",
       "      <td>0.948438</td>\n",
       "    </tr>\n",
       "  </tbody>\n",
       "</table>\n",
       "</div>"
      ],
      "text/plain": [
       "       loss  accuracy\n",
       "0  0.569555  0.681250\n",
       "1  0.269150  0.901563\n",
       "2  0.249102  0.909375\n",
       "3  0.206915  0.926562\n",
       "4  0.179096  0.940625\n",
       "5  0.155132  0.951563\n",
       "6  0.156218  0.953125\n",
       "7  0.187243  0.925000\n",
       "8  0.192268  0.940625\n",
       "9  0.166434  0.948438"
      ]
     },
     "execution_count": 61,
     "metadata": {},
     "output_type": "execute_result"
    }
   ],
   "source": [
    "df_loss_accuary = pd.DataFrame.from_dict(history_four_layer.history).drop(columns = ['val_loss', 'val_accuracy'])\n",
    "df_loss_accuary"
   ]
  },
  {
   "cell_type": "code",
   "execution_count": 62,
   "metadata": {},
   "outputs": [
    {
     "data": {
      "image/png": "[encoded data removed]",
      "text/plain": [
       "<Figure size 432x288 with 1 Axes>"
      ]
     },
     "metadata": {
      "needs_background": "light"
     },
     "output_type": "display_data"
    },
    {
     "data": {
      "image/png": "[encoded data removed]",
      "text/plain": [
       "<Figure size 432x288 with 1 Axes>"
      ]
     },
     "metadata": {
      "needs_background": "light"
     },
     "output_type": "display_data"
    }
   ],
   "source": [
    "acc = history_four_layer.history['accuracy']\n",
    "val_acc = history_four_layer.history['val_accuracy']\n",
    "loss = history_four_layer.history['loss']\n",
    "val_loss = history_four_layer.history['val_loss']\n",
    "epochs = range(len(acc))\n",
    "plt.plot(epochs, acc, '-', color='orange', label='training acc')\n",
    "plt.plot(epochs, val_acc, '-', color='blue', label='validation acc')\n",
    "plt.title('CNN with 4 Convolustional Layers: Accuracy')\n",
    "plt.legend()\n",
    "plt.show()\n",
    "\n",
    "plt.plot(epochs, loss, '-', color='orange', label='training loss')\n",
    "plt.plot(epochs, val_loss,  '-', color='blue', label='validation loss')\n",
    "plt.title('CNN with 4 Convolustional Layers: Loss')\n",
    "plt.legend()\n",
    "plt.show()"
   ]
  },
  {
   "cell_type": "code",
   "execution_count": 63,
   "metadata": {},
   "outputs": [],
   "source": [
    "model_four_layer.save(os.path.join(\"C:/Users/zhuyi/Documents/ANLY590_DEEP/project\",'CNN_four_layer.h5'))"
   ]
  }
 ],
 "metadata": {
  "kernelspec": {
   "display_name": "Python 3",
   "language": "python",
   "name": "python3"
  },
  "language_info": {
   "codemirror_mode": {
    "name": "ipython",
    "version": 3
   },
   "file_extension": ".py",
   "mimetype": "text/x-python",
   "name": "python",
   "nbconvert_exporter": "python",
   "pygments_lexer": "ipython3",
   "version": "3.7.3"
  }
 },
 "nbformat": 4,
 "nbformat_minor": 2
}
