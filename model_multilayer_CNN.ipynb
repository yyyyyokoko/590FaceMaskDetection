{
 "cells": [
  {
   "cell_type": "markdown",
   "metadata": {},
   "source": [
    "# Load Data"
   ]
  },
  {
   "cell_type": "code",
   "execution_count": 1,
   "metadata": {},
   "outputs": [],
   "source": [
    "import os\n",
    "import tensorflow as tf\n",
    "from tensorflow.keras.preprocessing.image import ImageDataGenerator\n",
    "from tensorflow.keras.callbacks import ModelCheckpoint\n",
    "from tensorflow.keras.models import load_model\n",
    "import pandas as pd\n",
    "import matplotlib.pyplot as plt"
   ]
  },
  {
   "cell_type": "code",
   "execution_count": 2,
   "metadata": {},
   "outputs": [],
   "source": [
    "data_gen = ImageDataGenerator(\n",
    "        rotation_range=20,\n",
    "        zoom_range=0.10,\n",
    "        width_shift_range=0.1,\n",
    "        height_shift_range=0.1,\n",
    "        shear_range=0.15,\n",
    "        rescale=1./255,\n",
    "        horizontal_flip=True,\n",
    "        validation_split=0.2)"
   ]
  },
  {
   "cell_type": "code",
   "execution_count": 3,
   "metadata": {},
   "outputs": [
    {
     "name": "stdout",
     "output_type": "stream",
     "text": [
      "Found 640 images belonging to 2 classes.\n"
     ]
    }
   ],
   "source": [
    "#train: 80% of \"Validation\"\n",
    "train_dir = \"C:/Users/zhuyi/Documents/ANLY590_DEEP/project/Validation\"\n",
    "train = data_gen.flow_from_directory(directory=train_dir,target_size=(160,160),\n",
    "                                          class_mode=\"categorical\",\n",
    "                                          batch_size=32,subset = \"training\")"
   ]
  },
  {
   "cell_type": "code",
   "execution_count": 4,
   "metadata": {},
   "outputs": [
    {
     "name": "stdout",
     "output_type": "stream",
     "text": [
      "Found 160 images belonging to 2 classes.\n"
     ]
    }
   ],
   "source": [
    "#valid: 20% of \"Validation\"\n",
    "valid = data_gen.flow_from_directory(directory=train_dir,target_size=(160,160),\n",
    "                                          class_mode=\"categorical\",\n",
    "                                          batch_size=32,subset=\"validation\")"
   ]
  },
  {
   "cell_type": "code",
   "execution_count": 5,
   "metadata": {},
   "outputs": [
    {
     "name": "stdout",
     "output_type": "stream",
     "text": [
      "Found 96 images belonging to 2 classes.\n"
     ]
    }
   ],
   "source": [
    "#test: \"sample_training\"\n",
    "test_dir = \"C:/Users/zhuyi/Documents/ANLY590_DEEP/project/sample_training\"\n",
    "test = data_gen.flow_from_directory(directory=test_dir,target_size=(160,160),\n",
    "                                          class_mode=\"categorical\",\n",
    "                                          batch_size=32)"
   ]
  },
  {
   "cell_type": "markdown",
   "metadata": {},
   "source": [
    "# CNN with 1 Convolutional Layer"
   ]
  },
  {
   "cell_type": "code",
   "execution_count": 6,
   "metadata": {},
   "outputs": [],
   "source": [
    "model_one_layer = tf.keras.models.Sequential([\n",
    "    tf.keras.layers.Conv2D(100, (3,3), activation='relu', input_shape=(160, 160, 3)),\n",
    "    tf.keras.layers.MaxPooling2D(2,2),\n",
    "    \n",
    "    tf.keras.layers.Flatten(),\n",
    "    tf.keras.layers.Dropout(0.5),\n",
    "    tf.keras.layers.Dense(50, activation='relu'),\n",
    "    tf.keras.layers.Dense(2, activation='softmax')\n",
    "])\n",
    "\n",
    "model_one_layer.compile(optimizer=\"adam\",loss=\"categorical_crossentropy\",metrics =\"accuracy\")"
   ]
  },
  {
   "cell_type": "code",
   "execution_count": 7,
   "metadata": {},
   "outputs": [],
   "source": [
    "checkpoint = ModelCheckpoint(\"CNN_one_checkpoint.h5\",monitor=\"val_accuracy\",save_best_only=True,verbose=1)"
   ]
  },
  {
   "cell_type": "code",
   "execution_count": 8,
   "metadata": {},
   "outputs": [
    {
     "name": "stdout",
     "output_type": "stream",
     "text": [
      "WARNING:tensorflow:From <ipython-input-8-db0cbab69b37>:4: Model.fit_generator (from tensorflow.python.keras.engine.training) is deprecated and will be removed in a future version.\n",
      "Instructions for updating:\n",
      "Please use Model.fit, which supports generators.\n",
      "Epoch 1/10\n",
      "20/20 [==============================] - ETA: 0s - loss: 2.3515 - accuracy: 0.6703\n",
      "Epoch 00001: val_accuracy improved from -inf to 0.86250, saving model to CNN_one_checkpoint.h5\n",
      "20/20 [==============================] - 25s 1s/step - loss: 2.3515 - accuracy: 0.6703 - val_loss: 0.4222 - val_accuracy: 0.8625\n",
      "Epoch 2/10\n",
      "20/20 [==============================] - ETA: 0s - loss: 0.2945 - accuracy: 0.8953\n",
      "Epoch 00002: val_accuracy improved from 0.86250 to 0.94375, saving model to CNN_one_checkpoint.h5\n",
      "20/20 [==============================] - 26s 1s/step - loss: 0.2945 - accuracy: 0.8953 - val_loss: 0.1887 - val_accuracy: 0.9438\n",
      "Epoch 3/10\n",
      "20/20 [==============================] - ETA: 0s - loss: 0.1720 - accuracy: 0.9438\n",
      "Epoch 00003: val_accuracy did not improve from 0.94375\n",
      "20/20 [==============================] - 25s 1s/step - loss: 0.1720 - accuracy: 0.9438 - val_loss: 0.2034 - val_accuracy: 0.9250\n",
      "Epoch 4/10\n",
      "20/20 [==============================] - ETA: 0s - loss: 0.1747 - accuracy: 0.9422\n",
      "Epoch 00004: val_accuracy improved from 0.94375 to 0.95000, saving model to CNN_one_checkpoint.h5\n",
      "20/20 [==============================] - 26s 1s/step - loss: 0.1747 - accuracy: 0.9422 - val_loss: 0.1482 - val_accuracy: 0.9500\n",
      "Epoch 5/10\n",
      "20/20 [==============================] - ETA: 0s - loss: 0.1692 - accuracy: 0.9391\n",
      "Epoch 00005: val_accuracy did not improve from 0.95000\n",
      "20/20 [==============================] - 25s 1s/step - loss: 0.1692 - accuracy: 0.9391 - val_loss: 0.2798 - val_accuracy: 0.8938\n",
      "Epoch 6/10\n",
      "20/20 [==============================] - ETA: 0s - loss: 0.1618 - accuracy: 0.9406\n",
      "Epoch 00006: val_accuracy did not improve from 0.95000\n",
      "20/20 [==============================] - 25s 1s/step - loss: 0.1618 - accuracy: 0.9406 - val_loss: 0.1481 - val_accuracy: 0.9438\n",
      "Epoch 7/10\n",
      "20/20 [==============================] - ETA: 0s - loss: 0.1160 - accuracy: 0.9625\n",
      "Epoch 00007: val_accuracy did not improve from 0.95000\n",
      "20/20 [==============================] - 27s 1s/step - loss: 0.1160 - accuracy: 0.9625 - val_loss: 0.1586 - val_accuracy: 0.9250\n",
      "Epoch 8/10\n",
      "20/20 [==============================] - ETA: 0s - loss: 0.1280 - accuracy: 0.9500\n",
      "Epoch 00008: val_accuracy did not improve from 0.95000\n",
      "20/20 [==============================] - 27s 1s/step - loss: 0.1280 - accuracy: 0.9500 - val_loss: 0.1735 - val_accuracy: 0.9438\n",
      "Epoch 9/10\n",
      "20/20 [==============================] - ETA: 0s - loss: 0.1076 - accuracy: 0.9641\n",
      "Epoch 00009: val_accuracy improved from 0.95000 to 0.95625, saving model to CNN_one_checkpoint.h5\n",
      "20/20 [==============================] - 28s 1s/step - loss: 0.1076 - accuracy: 0.9641 - val_loss: 0.1534 - val_accuracy: 0.9563\n",
      "Epoch 10/10\n",
      "20/20 [==============================] - ETA: 0s - loss: 0.1141 - accuracy: 0.9656\n",
      "Epoch 00010: val_accuracy did not improve from 0.95625\n",
      "20/20 [==============================] - 24s 1s/step - loss: 0.1141 - accuracy: 0.9656 - val_loss: 0.1860 - val_accuracy: 0.9375\n"
     ]
    }
   ],
   "source": [
    "history_one_layer = model_one_layer.fit_generator(generator=train, \n",
    "                              validation_data=valid,\n",
    "                              callbacks=[checkpoint],\n",
    "                              epochs=10)"
   ]
  },
  {
   "cell_type": "markdown",
   "metadata": {},
   "source": [
    "### Evaluation: 1 layer"
   ]
  },
  {
   "cell_type": "code",
   "execution_count": 9,
   "metadata": {},
   "outputs": [
    {
     "name": "stdout",
     "output_type": "stream",
     "text": [
      "20/20 [==============================] - 8s 385ms/step - loss: 0.1596 - accuracy: 0.9609\n"
     ]
    },
    {
     "data": {
      "text/plain": [
       "[0.1595587134361267, 0.9609375]"
      ]
     },
     "execution_count": 9,
     "metadata": {},
     "output_type": "execute_result"
    }
   ],
   "source": [
    "model_one_layer.evaluate(train)"
   ]
  },
  {
   "cell_type": "code",
   "execution_count": 10,
   "metadata": {},
   "outputs": [
    {
     "name": "stdout",
     "output_type": "stream",
     "text": [
      "3/3 [==============================] - 1s 281ms/step - loss: 0.1833 - accuracy: 0.9167\n"
     ]
    },
    {
     "data": {
      "text/plain": [
       "[0.1832735389471054, 0.9166666865348816]"
      ]
     },
     "execution_count": 10,
     "metadata": {},
     "output_type": "execute_result"
    }
   ],
   "source": [
    "model_one_layer.evaluate(test)"
   ]
  },
  {
   "cell_type": "code",
   "execution_count": 11,
   "metadata": {},
   "outputs": [
    {
     "name": "stdout",
     "output_type": "stream",
     "text": [
      "5/5 [==============================] - 2s 302ms/step - loss: 0.1721 - accuracy: 0.9500\n"
     ]
    },
    {
     "data": {
      "text/plain": [
       "[0.17210420966148376, 0.949999988079071]"
      ]
     },
     "execution_count": 11,
     "metadata": {},
     "output_type": "execute_result"
    }
   ],
   "source": [
    "model_one_layer.evaluate(valid)"
   ]
  },
  {
   "cell_type": "code",
   "execution_count": 12,
   "metadata": {},
   "outputs": [
    {
     "data": {
      "text/html": [
       "<div>\n",
       "<style scoped>\n",
       "    .dataframe tbody tr th:only-of-type {\n",
       "        vertical-align: middle;\n",
       "    }\n",
       "\n",
       "    .dataframe tbody tr th {\n",
       "        vertical-align: top;\n",
       "    }\n",
       "\n",
       "    .dataframe thead th {\n",
       "        text-align: right;\n",
       "    }\n",
       "</style>\n",
       "<table border=\"1\" class=\"dataframe\">\n",
       "  <thead>\n",
       "    <tr style=\"text-align: right;\">\n",
       "      <th></th>\n",
       "      <th>loss</th>\n",
       "      <th>accuracy</th>\n",
       "    </tr>\n",
       "  </thead>\n",
       "  <tbody>\n",
       "    <tr>\n",
       "      <th>0</th>\n",
       "      <td>2.351504</td>\n",
       "      <td>0.670313</td>\n",
       "    </tr>\n",
       "    <tr>\n",
       "      <th>1</th>\n",
       "      <td>0.294478</td>\n",
       "      <td>0.895312</td>\n",
       "    </tr>\n",
       "    <tr>\n",
       "      <th>2</th>\n",
       "      <td>0.171974</td>\n",
       "      <td>0.943750</td>\n",
       "    </tr>\n",
       "    <tr>\n",
       "      <th>3</th>\n",
       "      <td>0.174695</td>\n",
       "      <td>0.942187</td>\n",
       "    </tr>\n",
       "    <tr>\n",
       "      <th>4</th>\n",
       "      <td>0.169195</td>\n",
       "      <td>0.939062</td>\n",
       "    </tr>\n",
       "    <tr>\n",
       "      <th>5</th>\n",
       "      <td>0.161781</td>\n",
       "      <td>0.940625</td>\n",
       "    </tr>\n",
       "    <tr>\n",
       "      <th>6</th>\n",
       "      <td>0.115993</td>\n",
       "      <td>0.962500</td>\n",
       "    </tr>\n",
       "    <tr>\n",
       "      <th>7</th>\n",
       "      <td>0.127954</td>\n",
       "      <td>0.950000</td>\n",
       "    </tr>\n",
       "    <tr>\n",
       "      <th>8</th>\n",
       "      <td>0.107550</td>\n",
       "      <td>0.964063</td>\n",
       "    </tr>\n",
       "    <tr>\n",
       "      <th>9</th>\n",
       "      <td>0.114061</td>\n",
       "      <td>0.965625</td>\n",
       "    </tr>\n",
       "  </tbody>\n",
       "</table>\n",
       "</div>"
      ],
      "text/plain": [
       "       loss  accuracy\n",
       "0  2.351504  0.670313\n",
       "1  0.294478  0.895312\n",
       "2  0.171974  0.943750\n",
       "3  0.174695  0.942187\n",
       "4  0.169195  0.939062\n",
       "5  0.161781  0.940625\n",
       "6  0.115993  0.962500\n",
       "7  0.127954  0.950000\n",
       "8  0.107550  0.964063\n",
       "9  0.114061  0.965625"
      ]
     },
     "execution_count": 12,
     "metadata": {},
     "output_type": "execute_result"
    }
   ],
   "source": [
    "df_loss_accuary = pd.DataFrame.from_dict(history_one_layer.history).drop(columns = ['val_loss', 'val_accuracy'])\n",
    "df_loss_accuary"
   ]
  },
  {
   "cell_type": "code",
   "execution_count": 13,
   "metadata": {},
   "outputs": [
    {
     "data": {
      "image/png": "[encoded data removed]",
      "text/plain": [
       "<Figure size 432x288 with 1 Axes>"
      ]
     },
     "metadata": {
      "needs_background": "light"
     },
     "output_type": "display_data"
    },
    {
     "data": {
      "image/png": "[encoded data removed]",
      "text/plain": [
       "<Figure size 432x288 with 1 Axes>"
      ]
     },
     "metadata": {
      "needs_background": "light"
     },
     "output_type": "display_data"
    }
   ],
   "source": [
    "acc = history_one_layer.history['accuracy']\n",
    "val_acc = history_one_layer.history['val_accuracy']\n",
    "loss = history_one_layer.history['loss']\n",
    "val_loss = history_one_layer.history['val_loss']\n",
    "epochs = range(len(acc))\n",
    "plt.plot(epochs, acc, '-', color='orange', label='training acc')\n",
    "plt.plot(epochs, val_acc, '-', color='blue', label='validation acc')\n",
    "plt.title('CNN with 1 Convolustional Layers: Accuracy')\n",
    "plt.legend()\n",
    "plt.show()\n",
    "\n",
    "plt.plot(epochs, loss, '-', color='orange', label='training loss')\n",
    "plt.plot(epochs, val_loss,  '-', color='blue', label='validation loss')\n",
    "plt.title('CNN with 1 Convolustional Layers: Loss')\n",
    "plt.legend()\n",
    "plt.show()"
   ]
  },
  {
   "cell_type": "code",
   "execution_count": 14,
   "metadata": {},
   "outputs": [],
   "source": [
    "model_one_layer.save(os.path.join(\"C:/Users/zhuyi/Documents/ANLY590_DEEP/project\",'CNN_one_layer.h5'))"
   ]
  },
  {
   "cell_type": "markdown",
   "metadata": {},
   "source": [
    "# CNN with 4 Convolutional Layers"
   ]
  },
  {
   "cell_type": "code",
   "execution_count": 15,
   "metadata": {},
   "outputs": [],
   "source": [
    "model_four_layer = tf.keras.models.Sequential([\n",
    "    tf.keras.layers.Conv2D(100, (3,3), activation='relu', input_shape=(160, 160, 3)),\n",
    "    tf.keras.layers.MaxPooling2D(2,2),\n",
    "    \n",
    "    tf.keras.layers.Conv2D(100, (3,3), activation='relu'),\n",
    "    tf.keras.layers.MaxPooling2D(2,2),\n",
    "    \n",
    "    tf.keras.layers.Conv2D(100, (3,3), activation='relu'),\n",
    "    tf.keras.layers.MaxPooling2D(2,2),\n",
    "    \n",
    "    tf.keras.layers.Conv2D(100, (3,3), activation='relu'),\n",
    "    tf.keras.layers.MaxPooling2D(2,2),\n",
    "    \n",
    "    tf.keras.layers.Flatten(),\n",
    "    tf.keras.layers.Dropout(0.5),\n",
    "    tf.keras.layers.Dense(50, activation='relu'),\n",
    "    tf.keras.layers.Dense(2, activation='softmax')\n",
    "])\n",
    "\n",
    "model_four_layer.compile(optimizer=\"adam\",loss=\"categorical_crossentropy\",metrics =\"accuracy\")"
   ]
  },
  {
   "cell_type": "code",
   "execution_count": 16,
   "metadata": {},
   "outputs": [],
   "source": [
    "checkpoint = ModelCheckpoint(\"CNN_four_checkpoint.h5\",monitor=\"val_accuracy\",save_best_only=True,verbose=1)"
   ]
  },
  {
   "cell_type": "code",
   "execution_count": 18,
   "metadata": {},
   "outputs": [
    {
     "name": "stdout",
     "output_type": "stream",
     "text": [
      "Epoch 1/10\n",
      "20/20 [==============================] - ETA: 0s - loss: 0.2067 - accuracy: 0.9266\n",
      "Epoch 00001: val_accuracy improved from 0.93750 to 0.96250, saving model to CNN_four_checkpoint.h5\n",
      "20/20 [==============================] - 45s 2s/step - loss: 0.2067 - accuracy: 0.9266 - val_loss: 0.1265 - val_accuracy: 0.9625\n",
      "Epoch 2/10\n",
      "20/20 [==============================] - ETA: 0s - loss: 0.1403 - accuracy: 0.9547\n",
      "Epoch 00002: val_accuracy did not improve from 0.96250\n",
      "20/20 [==============================] - 42s 2s/step - loss: 0.1403 - accuracy: 0.9547 - val_loss: 0.1567 - val_accuracy: 0.9500\n",
      "Epoch 3/10\n",
      "20/20 [==============================] - ETA: 0s - loss: 0.1261 - accuracy: 0.9625\n",
      "Epoch 00003: val_accuracy did not improve from 0.96250\n",
      "20/20 [==============================] - 42s 2s/step - loss: 0.1261 - accuracy: 0.9625 - val_loss: 0.1801 - val_accuracy: 0.9563\n",
      "Epoch 4/10\n",
      "20/20 [==============================] - ETA: 0s - loss: 0.1359 - accuracy: 0.9578\n",
      "Epoch 00004: val_accuracy did not improve from 0.96250\n",
      "20/20 [==============================] - 41s 2s/step - loss: 0.1359 - accuracy: 0.9578 - val_loss: 0.1312 - val_accuracy: 0.9625\n",
      "Epoch 5/10\n",
      "20/20 [==============================] - ETA: 0s - loss: 0.1425 - accuracy: 0.9438\n",
      "Epoch 00005: val_accuracy did not improve from 0.96250\n",
      "20/20 [==============================] - 42s 2s/step - loss: 0.1425 - accuracy: 0.9438 - val_loss: 0.2104 - val_accuracy: 0.9438\n",
      "Epoch 6/10\n",
      "20/20 [==============================] - ETA: 0s - loss: 0.1417 - accuracy: 0.9500\n",
      "Epoch 00006: val_accuracy did not improve from 0.96250\n",
      "20/20 [==============================] - 43s 2s/step - loss: 0.1417 - accuracy: 0.9500 - val_loss: 0.1749 - val_accuracy: 0.9563\n",
      "Epoch 7/10\n",
      "20/20 [==============================] - ETA: 0s - loss: 0.1481 - accuracy: 0.9516\n",
      "Epoch 00007: val_accuracy did not improve from 0.96250\n",
      "20/20 [==============================] - 42s 2s/step - loss: 0.1481 - accuracy: 0.9516 - val_loss: 0.1196 - val_accuracy: 0.9563\n",
      "Epoch 8/10\n",
      "20/20 [==============================] - ETA: 0s - loss: 0.1213 - accuracy: 0.9625\n",
      "Epoch 00008: val_accuracy did not improve from 0.96250\n",
      "20/20 [==============================] - 44s 2s/step - loss: 0.1213 - accuracy: 0.9625 - val_loss: 0.2282 - val_accuracy: 0.9062\n",
      "Epoch 9/10\n",
      "20/20 [==============================] - ETA: 0s - loss: 0.1210 - accuracy: 0.9656\n",
      "Epoch 00009: val_accuracy did not improve from 0.96250\n",
      "20/20 [==============================] - 43s 2s/step - loss: 0.1210 - accuracy: 0.9656 - val_loss: 0.2257 - val_accuracy: 0.9438\n",
      "Epoch 10/10\n",
      "20/20 [==============================] - ETA: 0s - loss: 0.1805 - accuracy: 0.9453\n",
      "Epoch 00010: val_accuracy did not improve from 0.96250\n",
      "20/20 [==============================] - 42s 2s/step - loss: 0.1805 - accuracy: 0.9453 - val_loss: 0.1723 - val_accuracy: 0.9438\n"
     ]
    }
   ],
   "source": [
    "history_four_layer = model_four_layer.fit_generator(generator=train, \n",
    "                              validation_data=valid,\n",
    "                              callbacks=[checkpoint],\n",
    "                              epochs=10)"
   ]
  },
  {
   "cell_type": "markdown",
   "metadata": {},
   "source": [
    "### Evaluation: 4 layer"
   ]
  },
  {
   "cell_type": "code",
   "execution_count": 19,
   "metadata": {},
   "outputs": [
    {
     "name": "stdout",
     "output_type": "stream",
     "text": [
      "20/20 [==============================] - 12s 604ms/step - loss: 0.0934 - accuracy: 0.9734\n"
     ]
    },
    {
     "data": {
      "text/plain": [
       "[0.09342844784259796, 0.973437488079071]"
      ]
     },
     "execution_count": 19,
     "metadata": {},
     "output_type": "execute_result"
    }
   ],
   "source": [
    "model_four_layer.evaluate(train)"
   ]
  },
  {
   "cell_type": "code",
   "execution_count": 20,
   "metadata": {},
   "outputs": [
    {
     "name": "stdout",
     "output_type": "stream",
     "text": [
      "3/3 [==============================] - 1s 397ms/step - loss: 0.0845 - accuracy: 0.9792\n"
     ]
    },
    {
     "data": {
      "text/plain": [
       "[0.08445430546998978, 0.9791666865348816]"
      ]
     },
     "execution_count": 20,
     "metadata": {},
     "output_type": "execute_result"
    }
   ],
   "source": [
    "model_four_layer.evaluate(test)"
   ]
  },
  {
   "cell_type": "code",
   "execution_count": 21,
   "metadata": {},
   "outputs": [
    {
     "name": "stdout",
     "output_type": "stream",
     "text": [
      "5/5 [==============================] - 2s 492ms/step - loss: 0.1774 - accuracy: 0.9438\n"
     ]
    },
    {
     "data": {
      "text/plain": [
       "[0.1773635298013687, 0.9437500238418579]"
      ]
     },
     "execution_count": 21,
     "metadata": {},
     "output_type": "execute_result"
    }
   ],
   "source": [
    "model_four_layer.evaluate(valid)"
   ]
  },
  {
   "cell_type": "code",
   "execution_count": 22,
   "metadata": {},
   "outputs": [
    {
     "data": {
      "text/html": [
       "<div>\n",
       "<style scoped>\n",
       "    .dataframe tbody tr th:only-of-type {\n",
       "        vertical-align: middle;\n",
       "    }\n",
       "\n",
       "    .dataframe tbody tr th {\n",
       "        vertical-align: top;\n",
       "    }\n",
       "\n",
       "    .dataframe thead th {\n",
       "        text-align: right;\n",
       "    }\n",
       "</style>\n",
       "<table border=\"1\" class=\"dataframe\">\n",
       "  <thead>\n",
       "    <tr style=\"text-align: right;\">\n",
       "      <th></th>\n",
       "      <th>loss</th>\n",
       "      <th>accuracy</th>\n",
       "    </tr>\n",
       "  </thead>\n",
       "  <tbody>\n",
       "    <tr>\n",
       "      <th>0</th>\n",
       "      <td>0.206666</td>\n",
       "      <td>0.926562</td>\n",
       "    </tr>\n",
       "    <tr>\n",
       "      <th>1</th>\n",
       "      <td>0.140347</td>\n",
       "      <td>0.954687</td>\n",
       "    </tr>\n",
       "    <tr>\n",
       "      <th>2</th>\n",
       "      <td>0.126056</td>\n",
       "      <td>0.962500</td>\n",
       "    </tr>\n",
       "    <tr>\n",
       "      <th>3</th>\n",
       "      <td>0.135931</td>\n",
       "      <td>0.957812</td>\n",
       "    </tr>\n",
       "    <tr>\n",
       "      <th>4</th>\n",
       "      <td>0.142516</td>\n",
       "      <td>0.943750</td>\n",
       "    </tr>\n",
       "    <tr>\n",
       "      <th>5</th>\n",
       "      <td>0.141692</td>\n",
       "      <td>0.950000</td>\n",
       "    </tr>\n",
       "    <tr>\n",
       "      <th>6</th>\n",
       "      <td>0.148135</td>\n",
       "      <td>0.951563</td>\n",
       "    </tr>\n",
       "    <tr>\n",
       "      <th>7</th>\n",
       "      <td>0.121283</td>\n",
       "      <td>0.962500</td>\n",
       "    </tr>\n",
       "    <tr>\n",
       "      <th>8</th>\n",
       "      <td>0.121004</td>\n",
       "      <td>0.965625</td>\n",
       "    </tr>\n",
       "    <tr>\n",
       "      <th>9</th>\n",
       "      <td>0.180465</td>\n",
       "      <td>0.945312</td>\n",
       "    </tr>\n",
       "  </tbody>\n",
       "</table>\n",
       "</div>"
      ],
      "text/plain": [
       "       loss  accuracy\n",
       "0  0.206666  0.926562\n",
       "1  0.140347  0.954687\n",
       "2  0.126056  0.962500\n",
       "3  0.135931  0.957812\n",
       "4  0.142516  0.943750\n",
       "5  0.141692  0.950000\n",
       "6  0.148135  0.951563\n",
       "7  0.121283  0.962500\n",
       "8  0.121004  0.965625\n",
       "9  0.180465  0.945312"
      ]
     },
     "execution_count": 22,
     "metadata": {},
     "output_type": "execute_result"
    }
   ],
   "source": [
    "df_loss_accuary = pd.DataFrame.from_dict(history_four_layer.history).drop(columns = ['val_loss', 'val_accuracy'])\n",
    "df_loss_accuary"
   ]
  },
  {
   "cell_type": "code",
   "execution_count": 23,
   "metadata": {},
   "outputs": [
    {
     "data": {
      "image/png": "[encoded data removed]",
      "text/plain": [
       "<Figure size 432x288 with 1 Axes>"
      ]
     },
     "metadata": {
      "needs_background": "light"
     },
     "output_type": "display_data"
    },
    {
     "data": {
      "image/png": "[encoded data removed]",
      "text/plain": [
       "<Figure size 432x288 with 1 Axes>"
      ]
     },
     "metadata": {
      "needs_background": "light"
     },
     "output_type": "display_data"
    }
   ],
   "source": [
    "acc = history_four_layer.history['accuracy']\n",
    "val_acc = history_four_layer.history['val_accuracy']\n",
    "loss = history_four_layer.history['loss']\n",
    "val_loss = history_four_layer.history['val_loss']\n",
    "epochs = range(len(acc))\n",
    "plt.plot(epochs, acc, '-', color='orange', label='training acc')\n",
    "plt.plot(epochs, val_acc, '-', color='blue', label='validation acc')\n",
    "plt.title('CNN with 4 Convolustional Layers: Accuracy')\n",
    "plt.legend()\n",
    "plt.show()\n",
    "\n",
    "plt.plot(epochs, loss, '-', color='orange', label='training loss')\n",
    "plt.plot(epochs, val_loss,  '-', color='blue', label='validation loss')\n",
    "plt.title('CNN with 4 Convolustional Layers: Loss')\n",
    "plt.legend()\n",
    "plt.show()"
   ]
  },
  {
   "cell_type": "code",
   "execution_count": 24,
   "metadata": {},
   "outputs": [],
   "source": [
    "model_four_layer.save(os.path.join(\"C:/Users/zhuyi/Documents/ANLY590_DEEP/project\",'CNN_four_layer.h5'))"
   ]
  }
 ],
 "metadata": {
  "kernelspec": {
   "display_name": "Python 3",
   "language": "python",
   "name": "python3"
  },
  "language_info": {
   "codemirror_mode": {
    "name": "ipython",
    "version": 3
   },
   "file_extension": ".py",
   "mimetype": "text/x-python",
   "name": "python",
   "nbconvert_exporter": "python",
   "pygments_lexer": "ipython3",
   "version": "3.7.3"
  }
 },
 "nbformat": 4,
 "nbformat_minor": 2
}
